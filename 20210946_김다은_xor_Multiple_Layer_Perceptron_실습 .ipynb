{
  "nbformat": 4,
  "nbformat_minor": 0,
  "metadata": {
    "colab": {
      "provenance": []
    },
    "kernelspec": {
      "name": "python3",
      "display_name": "Python 3"
    },
    "language_info": {
      "name": "python"
    }
  },
  "cells": [
    {
      "cell_type": "markdown",
      "source": [
        "20210946_김다은_xor_Multiple Layer Perceptron 실습"
      ],
      "metadata": {
        "id": "uJ936yIFr147"
      }
    },
    {
      "cell_type": "code",
      "execution_count": 110,
      "metadata": {
        "id": "QT2szs7pyDTt"
      },
      "outputs": [],
      "source": [
        "import torch\n",
        "from torch import nn\n",
        "import torch.optim as optim\n",
        "from matplotlib import pyplot as plt\n",
        "import numpy as np"
      ]
    },
    {
      "cell_type": "code",
      "source": [
        "# XOR\n",
        "X = torch.tensor([[0,0], [0,1], [1,0], [1,1]], dtype=torch.float)\n",
        "Y = torch.tensor([[0],[1],[1],[0]], dtype=torch.float)"
      ],
      "metadata": {
        "id": "qDrrV2XAyWmI"
      },
      "execution_count": 111,
      "outputs": []
    },
    {
      "cell_type": "code",
      "source": [
        "class XOR(nn.Module):\n",
        "    def __init__(self):\n",
        "        super().__init__()\n",
        "        self.model = nn.Sequential(\n",
        "            nn.Linear(2, 2),\n",
        "            nn.Linear(2, 1)\n",
        "        )\n",
        "\n",
        "    def forward(self, x):\n",
        "        return self.model(x)"
      ],
      "metadata": {
        "id": "dZFb9irtjGR2"
      },
      "execution_count": 112,
      "outputs": []
    },
    {
      "cell_type": "code",
      "source": [
        "xor_model = XOR()\n",
        "xor_model"
      ],
      "metadata": {
        "colab": {
          "base_uri": "https://localhost:8080/"
        },
        "id": "4x6l_cSRjIpU",
        "outputId": "91ec43fe-ddb8-46be-9163-d9ac0af6e957"
      },
      "execution_count": 113,
      "outputs": [
        {
          "output_type": "execute_result",
          "data": {
            "text/plain": [
              "XOR(\n",
              "  (model): Sequential(\n",
              "    (0): Linear(in_features=2, out_features=2, bias=True)\n",
              "    (1): Linear(in_features=2, out_features=1, bias=True)\n",
              "  )\n",
              ")"
            ]
          },
          "metadata": {},
          "execution_count": 113
        }
      ]
    },
    {
      "cell_type": "code",
      "source": [
        "w_xor = torch.zeros(2, requires_grad=True)\n",
        "b_xor = torch.zeros(1, requires_grad=True)\n",
        "w_xor, b_xor"
      ],
      "metadata": {
        "colab": {
          "base_uri": "https://localhost:8080/"
        },
        "id": "8zwg5lk8yoNF",
        "outputId": "d3fa84df-f32a-4ef1-fb3c-52de2fd38ed6"
      },
      "execution_count": 114,
      "outputs": [
        {
          "output_type": "execute_result",
          "data": {
            "text/plain": [
              "(tensor([0., 0.], requires_grad=True), tensor([0.], requires_grad=True))"
            ]
          },
          "metadata": {},
          "execution_count": 114
        }
      ]
    },
    {
      "cell_type": "code",
      "source": [
        "hypothesis = (X @ w_xor + b_xor)\n",
        "hypothesis"
      ],
      "metadata": {
        "colab": {
          "base_uri": "https://localhost:8080/"
        },
        "id": "ZDN1JG79y3nB",
        "outputId": "08196a34-15bb-47f4-cabf-64800539bad6"
      },
      "execution_count": 115,
      "outputs": [
        {
          "output_type": "execute_result",
          "data": {
            "text/plain": [
              "tensor([0., 0., 0., 0.], grad_fn=<AddBackward0>)"
            ]
          },
          "metadata": {},
          "execution_count": 115
        }
      ]
    },
    {
      "cell_type": "code",
      "source": [
        "# XOR gate\n",
        "\n",
        "# initialize parameter\n",
        "w_xor = torch.zeros(2, requires_grad=True)\n",
        "b_xor = torch.zeros(1, requires_grad=True)\n",
        "\n",
        "# hyperparameter\n",
        "def train(model, X, Y, epochs=1000, lr=0.1):\n",
        "  optimizer = optim.SGD([w_xor, b_xor], lr=lr)\n",
        "  loss_fn = nn.BCEWithLogitsLoss()\n",
        "\n",
        "  for epoch in range(epochs):\n",
        "    hypothesis = X @ w_xor + b_xor\n",
        "    cost = loss_fn(hypothesis.view(-1,1), Y)\n",
        "\n",
        "    optimizer.zero_grad()\n",
        "    cost.backward()\n",
        "    optimizer.step()\n",
        "\n",
        "    if epoch % 100 == 0:\n",
        "      print(f'Epoch: {epoch}, Loss: {cost}')\n",
        "  print('cost:', cost)\n",
        "  print('Parameters:', w_xor, b_xor)\n"
      ],
      "metadata": {
        "id": "aeAVZ7rjy9Mf"
      },
      "execution_count": 116,
      "outputs": []
    },
    {
      "cell_type": "code",
      "source": [
        "def predict(x, model=None):\n",
        "    with torch.no_grad():\n",
        "        prediction = model(torch.tensor(x, dtype=torch.float).view(1, -1))\n",
        "        prediction = torch.where(prediction >= 0.5, torch.tensor(1.0), torch.tensor(0.0))\n",
        "        return prediction.item()"
      ],
      "metadata": {
        "id": "s4mv45cHnIpx"
      },
      "execution_count": 117,
      "outputs": []
    },
    {
      "cell_type": "code",
      "source": [
        "model = XOR()\n",
        "train(model, X, Y)"
      ],
      "metadata": {
        "colab": {
          "base_uri": "https://localhost:8080/"
        },
        "id": "e4N-hEjensGy",
        "outputId": "5f687869-f968-4103-e495-b6a36a5d1fcb"
      },
      "execution_count": 118,
      "outputs": [
        {
          "output_type": "stream",
          "name": "stdout",
          "text": [
            "Epoch: 0, Loss: 0.6931471824645996\n",
            "Epoch: 100, Loss: 0.6931471824645996\n",
            "Epoch: 200, Loss: 0.6931471824645996\n",
            "Epoch: 300, Loss: 0.6931471824645996\n",
            "Epoch: 400, Loss: 0.6931471824645996\n",
            "Epoch: 500, Loss: 0.6931471824645996\n",
            "Epoch: 600, Loss: 0.6931471824645996\n",
            "Epoch: 700, Loss: 0.6931471824645996\n",
            "Epoch: 800, Loss: 0.6931471824645996\n",
            "Epoch: 900, Loss: 0.6931471824645996\n",
            "cost: tensor(0.6931, grad_fn=<BinaryCrossEntropyWithLogitsBackward0>)\n",
            "Parameters: tensor([0., 0.], requires_grad=True) tensor([0.], requires_grad=True)\n"
          ]
        }
      ]
    },
    {
      "cell_type": "code",
      "source": [
        "def predict(x, w=None, b=None):\n",
        "    return (x @ w + b)"
      ],
      "metadata": {
        "id": "DAybuuhvntOj"
      },
      "execution_count": 119,
      "outputs": []
    },
    {
      "cell_type": "code",
      "source": [
        "predict(X, w=w_xor, b=b_xor)"
      ],
      "metadata": {
        "colab": {
          "base_uri": "https://localhost:8080/"
        },
        "id": "mAR4wJzDoyRN",
        "outputId": "fe7a1d03-f7c7-4190-ef7c-d796cd567d8f"
      },
      "execution_count": 120,
      "outputs": [
        {
          "output_type": "execute_result",
          "data": {
            "text/plain": [
              "tensor([0., 0., 0., 0.], grad_fn=<AddBackward0>)"
            ]
          },
          "metadata": {},
          "execution_count": 120
        }
      ]
    },
    {
      "cell_type": "code",
      "source": [
        "torch.where(predict(X, w=w_xor, b=b_xor)>0.5, 1., 0.)"
      ],
      "metadata": {
        "colab": {
          "base_uri": "https://localhost:8080/"
        },
        "id": "J0hp0lm2o_dB",
        "outputId": "15e627f5-6c66-4eec-bed0-f9f741ec72ca"
      },
      "execution_count": 121,
      "outputs": [
        {
          "output_type": "execute_result",
          "data": {
            "text/plain": [
              "tensor([0., 0., 0., 0.])"
            ]
          },
          "metadata": {},
          "execution_count": 121
        }
      ]
    },
    {
      "cell_type": "code",
      "source": [
        "for x in X:\n",
        "  prediction = model(torch.FloatTensor(x).view(1, -1))\n",
        "  print(x.tolist(), {prediction})"
      ],
      "metadata": {
        "colab": {
          "base_uri": "https://localhost:8080/"
        },
        "id": "kk8njyN0pHWh",
        "outputId": "d649feda-5855-4b42-de51-e035a5cd62de"
      },
      "execution_count": 122,
      "outputs": [
        {
          "output_type": "stream",
          "name": "stdout",
          "text": [
            "[0.0, 0.0] {tensor([[0.2351]], grad_fn=<AddmmBackward0>)}\n",
            "[0.0, 1.0] {tensor([[-0.0669]], grad_fn=<AddmmBackward0>)}\n",
            "[1.0, 0.0] {tensor([[0.0902]], grad_fn=<AddmmBackward0>)}\n",
            "[1.0, 1.0] {tensor([[-0.2118]], grad_fn=<AddmmBackward0>)}\n"
          ]
        }
      ]
    }
  ]
}